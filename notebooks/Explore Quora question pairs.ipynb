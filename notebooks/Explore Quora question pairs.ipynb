{
 "cells": [
  {
   "cell_type": "markdown",
   "metadata": {},
   "source": [
    "This notebook is intended to satiate your data exploration needs."
   ]
  },
  {
   "cell_type": "code",
   "execution_count": 4,
   "metadata": {
    "collapsed": true
   },
   "outputs": [],
   "source": [
    "import data_utils as du\n",
    "import os\n",
    "\n",
    "question_pairs_dir = \"/home/ptcernek/data/quora/\"\n",
    "train_file = os.path.join(question_pairs_dir, \"train.csv\")\n",
    "test_file = os.path.join(question_pairs_dir, \"test.csv\")"
   ]
  },
  {
   "cell_type": "code",
   "execution_count": 2,
   "metadata": {
    "collapsed": true
   },
   "outputs": [],
   "source": [
    "data = du.load_csv(train_file)"
   ]
  },
  {
   "cell_type": "markdown",
   "metadata": {},
   "source": [
    "### Long questions\n",
    "How many questions have more than 30 words, as per the nltk tokenization scheme that we use?"
   ]
  },
  {
   "cell_type": "code",
   "execution_count": 3,
   "metadata": {
    "collapsed": true
   },
   "outputs": [],
   "source": [
    "from skipthoughts import skipthoughts as st\n",
    "q1s = st.preprocess(data['question1'])\n",
    "q2s = st.preprocess(data['question2'])"
   ]
  },
  {
   "cell_type": "markdown",
   "metadata": {},
   "source": [
    "We know that many questions occur multiple times throughout the dataset. In some respects it may not be ideal to double-count these, but our predominant concern here is to get an idea of how truncating these might affect performance."
   ]
  },
  {
   "cell_type": "code",
   "execution_count": 15,
   "metadata": {},
   "outputs": [
    {
     "name": "stdout",
     "output_type": "stream",
     "text": [
      "Number of q's with more than 40 words in train.csv: 4255 (0.5262%)\n"
     ]
    }
   ],
   "source": [
    "many_words = 40\n",
    "all_qs = q1s + q2s\n",
    "num_long = sum([1 for s in all_qs if len(s.split()) > many_words])\n",
    "print \"Number of q's with more than {0} words in train.csv: {1} ({2:.4f}%)\".format(many_words, num_long, float(num_long) / len(all_qs) * 100)"
   ]
  },
  {
   "cell_type": "code",
   "execution_count": 7,
   "metadata": {},
   "outputs": [
    {
     "data": {
      "text/plain": [
       "u' What is the step by step guide to invest in share market in india ?'"
      ]
     },
     "execution_count": 7,
     "metadata": {},
     "output_type": "execute_result"
    }
   ],
   "source": [
    "q1s[0]"
   ]
  },
  {
   "cell_type": "code",
   "execution_count": null,
   "metadata": {
    "collapsed": true
   },
   "outputs": [],
   "source": []
  }
 ],
 "metadata": {
  "kernelspec": {
   "display_name": "Python 2",
   "language": "python",
   "name": "python2"
  },
  "language_info": {
   "codemirror_mode": {
    "name": "ipython",
    "version": 2
   },
   "file_extension": ".py",
   "mimetype": "text/x-python",
   "name": "python",
   "nbconvert_exporter": "python",
   "pygments_lexer": "ipython2",
   "version": "2.7.12"
  }
 },
 "nbformat": 4,
 "nbformat_minor": 2
}
