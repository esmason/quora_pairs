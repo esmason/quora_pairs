{
 "cells": [
  {
   "cell_type": "markdown",
   "metadata": {},
   "source": [
    "This notebook is intended to satiate your data exploration needs."
   ]
  },
  {
   "cell_type": "code",
   "execution_count": 4,
   "metadata": {
    "collapsed": true
   },
   "outputs": [],
   "source": [
    "import data_utils as du\n",
    "import os\n",
    "\n",
    "question_pairs_dir = \"/home/ptcernek/data/quora/\"\n",
    "train_file = os.path.join(question_pairs_dir, \"train.csv\")\n",
    "test_file = os.path.join(question_pairs_dir, \"test.csv\")"
   ]
  },
  {
   "cell_type": "code",
   "execution_count": 2,
   "metadata": {
    "collapsed": true
   },
   "outputs": [],
   "source": [
    "data = du.load_csv(train_file)"
   ]
  },
  {
   "cell_type": "markdown",
   "metadata": {},
   "source": [
    "### Long questions\n",
    "How many questions have more than 30 words, as per the nltk tokenization scheme that we use?"
   ]
  },
  {
   "cell_type": "code",
   "execution_count": 3,
   "metadata": {
    "collapsed": true
   },
   "outputs": [],
   "source": [
    "from skipthoughts import skipthoughts as st\n",
    "q1s = st.preprocess(data['question1'])\n",
    "q2s = st.preprocess(data['question2'])"
   ]
  },
  {
   "cell_type": "markdown",
   "metadata": {},
   "source": [
    "We know that many questions occur multiple times throughout the dataset. In some respects it may not be ideal to double-count these, but our predominant concern here is to get an idea of how truncating these might affect performance."
   ]
  },
  {
   "cell_type": "code",
   "execution_count": null,
   "metadata": {
    "collapsed": true
   },
   "outputs": [],
   "source": [
    "many_words = 30\n",
    "num_long_q1 \n",
    "print \"Number of q's with more than {0} words in train.csv: {1}\""
   ]
  }
 ],
 "metadata": {
  "kernelspec": {
   "display_name": "Python 2",
   "language": "python",
   "name": "python2"
  },
  "language_info": {
   "codemirror_mode": {
    "name": "ipython",
    "version": 2
   },
   "file_extension": ".py",
   "mimetype": "text/x-python",
   "name": "python",
   "nbconvert_exporter": "python",
   "pygments_lexer": "ipython2",
   "version": "2.7.12"
  }
 },
 "nbformat": 4,
 "nbformat_minor": 2
}
